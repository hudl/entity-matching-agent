{
 "cells": [
  {
   "cell_type": "code",
   "execution_count": null,
   "id": "0635c052-e597-4777-8ab1-f544c99adc03",
   "metadata": {},
   "outputs": [],
   "source": []
  }
 ],
 "metadata": {
  "kernelspec": {
   "display_name": "",
   "name": ""
  },
  "language_info": {
   "name": ""
  }
 },
 "nbformat": 4,
 "nbformat_minor": 5
}
